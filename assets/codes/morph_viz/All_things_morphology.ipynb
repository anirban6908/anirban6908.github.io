{
 "cells": [
  {
   "cell_type": "markdown",
   "metadata": {},
   "source": [
    "## Visualizing the Allen Institute .swc morphologies with different customizations"
   ]
  },
  {
   "cell_type": "code",
   "execution_count": null,
   "metadata": {},
   "outputs": [],
   "source": [
    "%matplotlib inline\n",
    "from ateamopt.morph_handler import MorphHandler,swc_dict\n",
    "import matplotlib.pyplot as plt\n",
    "import seaborn as sns\n",
    "import numpy as np\n",
    "from ateamopt.utils import utility\n",
    "from allensdk.core.cell_types_cache import CellTypesCache\n",
    "import pandas as pd\n",
    "import os\n",
    "from ateamopt.animation import animation_module\n",
    "import ateamopt\n",
    "import warnings\n",
    "import neurom.viewer\n",
    "\n",
    "warnings.filterwarnings('ignore')"
   ]
  },
  {
   "cell_type": "code",
   "execution_count": null,
   "metadata": {},
   "outputs": [],
   "source": [
    "def get_morph_path(cell_id,save_filename=None):\n",
    "    try:\n",
    "        from ateam.data import lims\n",
    "        lr = lims.LimsReader()\n",
    "        morph_path = lr.get_swc_path_from_lims(int(cell_id))\n",
    "    except:\n",
    "        morph_path = save_filename or '%s.swc'%cell_id\n",
    "        ctc = CellTypesCache()\n",
    "        ctc.get_reconstruction(int(cell_id),file_name=morph_path)\n",
    "    return morph_path "
   ]
  },
  {
   "cell_type": "code",
   "execution_count": null,
   "metadata": {},
   "outputs": [],
   "source": [
    "cell_id = '479225052'\n",
    "color_crimson=np.array([193,48,78,200])/255\n",
    "color_steelblue = np.array([86,130,164,255])/255\n",
    "\n",
    "swc_sect_indices = list(swc_dict.keys())\n",
    "color_dict = {swc_sect_indx:color_steelblue for swc_sect_indx in swc_sect_indices}\n",
    "morph_path = get_morph_path(cell_id)"
   ]
  },
  {
   "cell_type": "code",
   "execution_count": null,
   "metadata": {},
   "outputs": [],
   "source": [
    "fig,ax = neurom.viewer.draw(neurom.load_neuron(morph_path))\n",
    "fig.set_size_inches(4,10)\n",
    "ax.grid(False)\n",
    "ax.set_title('')\n",
    "sns.despine(ax=ax)\n",
    "ax.set_xlabel('$\\mu m$')\n",
    "ax.set_ylabel('$\\mu m$')\n",
    "fig.savefig('morph2D_neurom.png',bbox_inches='tight')"
   ]
  },
  {
   "cell_type": "code",
   "execution_count": null,
   "metadata": {},
   "outputs": [],
   "source": [
    "morph_handler = MorphHandler(morph_path)\n",
    "morph_data,morph_apical,morph_axon,morph_dist_arr = morph_handler.get_morph_coords()               \n",
    "theta,axis_of_rot = morph_handler.calc_rotation_angle(morph_data,morph_apical)\n",
    "\n",
    "sns.set(style='whitegrid')\n",
    "title_fontsize=14\n",
    "fig = plt.figure(figsize=(14,10))\n",
    "ax1 = fig.add_subplot(1, 3, 1, projection='3d')\n",
    "ax1,elev_angle = morph_handler.draw_morphology(theta,axis_of_rot,reject_axon=False,ax=ax1)\n",
    "ax1.set_title('default colors',fontsize= title_fontsize)\n",
    "ax1.patch.set_facecolor('white')\n",
    "ax1.xaxis.set_major_formatter(plt.NullFormatter())\n",
    "ax1.yaxis.set_major_formatter(plt.NullFormatter())\n",
    "ax1.zaxis.set_major_formatter(plt.NullFormatter())\n",
    "\n",
    "ax2 = fig.add_subplot(1, 3, 2, projection='3d')\n",
    "ax2,elev_angle = morph_handler.draw_morphology(theta,axis_of_rot,reject_axon=False,ax=ax2,\n",
    "                                               color_dict=color_dict,axis_off=True)\n",
    "ax2.set_title('custom colors',fontsize= title_fontsize)\n",
    "ax3 = fig.add_subplot(1, 3, 3, projection='3d')\n",
    "ax3,elev_angle = morph_handler.draw_morphology(theta,axis_of_rot,reject_axon=False,ax=ax3,\n",
    "                                               morph_dist_arr=morph_dist_arr,axis_off=True,alpha=.8)\n",
    "ax3.set_title('thinning with distances',fontsize= title_fontsize)\n",
    "fig.subplots_adjust(wspace=0)\n",
    "plt.show()\n",
    "fig.savefig('3D_morph_banner.png',bbox_inches='tight')"
   ]
  },
  {
   "cell_type": "code",
   "execution_count": null,
   "metadata": {},
   "outputs": [],
   "source": [
    "ax,elev_angle = morph_handler.draw_morphology(theta,axis_of_rot,reject_axon=False,\n",
    "                                              morph_dist_arr=morph_dist_arr,axis_off=True,alpha=.8)\n",
    "n_syn_apical = 10\n",
    "ax = morph_handler.add_synapses(morph_apical,n_syn_apical,theta,axis_of_rot,ax,color='k')\n",
    "ax.set_title('morphology with synapses',fontsize=12)\n",
    "fig = ax.get_figure()\n",
    "fig.set_size_inches(4,10)\n",
    "fig.savefig('Morph_with_synapses.png',bbox_inches='tight')\n",
    "plt.show()\n"
   ]
  },
  {
   "cell_type": "code",
   "execution_count": null,
   "metadata": {},
   "outputs": [],
   "source": [
    "angles = np.linspace(0,360,30)[:-1] # rotate the viewing position\n",
    "\n",
    "files = animation_module.Animation.make_3Dviews(ax,angles,elevation=elev_angle,prefix='morph_anim/tmprot_')\n",
    "movie_name = 'morph_movie_synapses.gif'\n",
    "anim = animation_module.Animation(movie_name)\n",
    "anim.make_gif(files,delay=20)\n"
   ]
  },
  {
   "cell_type": "markdown",
   "metadata": {},
   "source": [
    "### Plotting in 2D"
   ]
  },
  {
   "cell_type": "code",
   "execution_count": null,
   "metadata": {},
   "outputs": [],
   "source": [
    "morph_path = get_morph_path(cell_id)\n",
    "morph_handler = MorphHandler(morph_path)\n",
    "morph_data,morph_apical,morph_axon,morph_dist_arr = morph_handler.get_morph_coords()                            \n",
    "theta,axis_of_rot = morph_handler.calc_rotation_angle(morph_data,morph_apical)\n",
    "sns.set(style='whitegrid')\n",
    "fig,(ax1,ax2,ax3) = plt.subplots(1,3,figsize=(12,8))\n",
    "ax1 = morph_handler.draw_morphology_2D(theta,axis_of_rot,reject_axon=False,ax=ax1)\n",
    "ax1.set_title('default colors',fontsize=12)\n",
    "ax1.set_xlabel('$\\mu m$')\n",
    "ax1.set_ylabel('$\\mu m$')\n",
    "sns.despine(ax=ax1)\n",
    "ax2 = morph_handler.draw_morphology_2D(theta,axis_of_rot,reject_axon=False,ax=ax2,\n",
    "                                               color_dict=color_dict,axis_off=True)\n",
    "ax2.set_title('custom colors',fontsize=12)\n",
    "ax3 = morph_handler.draw_morphology_2D(theta,axis_of_rot,reject_axon=False,ax=ax3,\n",
    "                                               morph_dist_arr=morph_dist_arr,axis_off=True)\n",
    "ax3.set_title('thinning with distances',fontsize=12)\n",
    "fig.savefig('2D_morph_banner.png',bbox_inches='tight')\n",
    "plt.show()"
   ]
  },
  {
   "cell_type": "markdown",
   "metadata": {},
   "source": [
    "### Comparison between Mouse and Human"
   ]
  },
  {
   "cell_type": "code",
   "execution_count": null,
   "metadata": {},
   "outputs": [],
   "source": [
    "human_cell_id,mouse_cell_id = '571735073','479225052'\n",
    "cell_ids = [mouse_cell_id,human_cell_id]\n",
    "soma_displacement_x = 500\n",
    "color_dict = {4: 'purple', 3: 'r', 2: 'b', 1 :'k' }\n",
    "fig,ax = plt.subplots(figsize=(6,10))\n",
    "\n",
    "for jj,cell_id in enumerate(cell_ids):\n",
    "    morph_path = get_morph_path(cell_id)       \n",
    "    morph_handler = MorphHandler(morph_path)\n",
    "    morph_data,morph_apical,morph_axon,morph_dist_arr = morph_handler.get_morph_coords()\n",
    "    soma_loc = np.array([jj*soma_displacement_x, 0])\n",
    "    \n",
    "    # Rotate morphology to appear upright                            \n",
    "    theta,axis_of_rot = morph_handler.calc_rotation_angle(morph_data,morph_apical)\n",
    "\n",
    "    ax = morph_handler.draw_morphology_2D(theta,axis_of_rot,soma_loc=soma_loc,color_dict=color_dict,morph_dist_arr=morph_dist_arr,ax=ax,lw=1.2,reject_axon=True)  \n",
    "ax.set_xlabel('$\\mu m$')\n",
    "ax.set_ylabel('$\\mu m$')\n",
    "ax.text(150,300,'Mouse',rotation='vertical',fontsize=14)\n",
    "ax.text(650,600,'Human',rotation='vertical',fontsize=14)\n",
    "\n",
    "ax.grid(False)\n",
    "sns.despine(ax=ax)\n",
    "fig.savefig('mouse_vs_human.png',bbox_inches='tight')"
   ]
  },
  {
   "cell_type": "markdown",
   "metadata": {},
   "source": [
    "### Multiple morphologies in Laminar view 2D"
   ]
  },
  {
   "cell_type": "code",
   "execution_count": null,
   "metadata": {},
   "outputs": [],
   "source": [
    "data_path = os.path.join(os.path.dirname(ateamopt.__file__),os.pardir,'assets','aggregated_data')\n",
    "cre_coloring_filename = os.path.join(data_path,'rnaseq_sorted_cre.pkl')\n",
    "cre_color_dict = utility.load_pickle(cre_coloring_filename)\n",
    "cre_color_dict['Other'] = (0,0,0)\n",
    "\n",
    "depth_data_filename = os.path.join(data_path,'mouse_me_and_met_avg_layer_depths.json') # Average layerwise depths for mouse\n",
    "depth_data = utility.load_json(depth_data_filename)\n",
    "total_depth = depth_data['wm']\n",
    "\n",
    "# Cells are chosen to sample from diverse types within each layer\n",
    "cell_id_dict = {'1':['574734127','564349611','475585413','555341581','536951541'],\n",
    "                '2/3':['485184849','475515168','485468180','476087653','571306690'],\n",
    "                '4':['483101699','602822298','490205998','569723367','324257146'],\n",
    "                '5':['479225052','607124114','515249852','488683425','569998790'],\n",
    "                '6a':['490259231','473564515','561985849','578938153','471789504'],\n",
    "                '6b':['589128331','574993444','510136749','509881736','590558808']}\n",
    "\n",
    "# Get normalized depth metadata for individual cells\n",
    "\n",
    "ctc = CellTypesCache()\n",
    "cells_allensdk = ctc.get_cells(species = ['Mus musculus'],simple = False)\n",
    "sdk_data = pd.DataFrame(cells_allensdk)\n",
    "sdk_data['specimen__id'] = sdk_data['specimen__id'].astype(str)\n"
   ]
  },
  {
   "cell_type": "code",
   "execution_count": null,
   "metadata": {},
   "outputs": [],
   "source": [
    "ylim_min,ylim_max =-200, 1200\n",
    "soma_loc_x = 0\n",
    "sigma_layer = 50\n",
    "soma_loc_displacement_x = 500\n",
    "unique_layers = sorted(sdk_data.structure__layer.unique().tolist())\n",
    "\n",
    "layer_dist = {layer_ : i*soma_loc_displacement_x for i,layer_ in enumerate(unique_layers)}\n",
    "\n",
    "sns.set(style='whitegrid')\n",
    "fig,ax = plt.subplots()\n",
    "\n",
    "for layer_name,cell_id_list in cell_id_dict.items():\n",
    "    num_cells = len(cell_id_list)\n",
    "    dist_x = np.linspace(-125,125,num_cells)\n",
    "    for kk,cell_id in enumerate(cell_id_list):\n",
    "        metadata= sdk_data.loc[sdk_data.specimen__id==cell_id,['csl__normalized_depth','line_name',\n",
    "                                                               'structure__layer']]\n",
    "        norm_depth = metadata.csl__normalized_depth.tolist()[0]\n",
    "        cre = metadata.line_name.tolist()[0]\n",
    "        layer = metadata.structure__layer.tolist()[0]\n",
    "        color = cre_color_dict[cre] if cre in cre_color_dict.keys() else cre_color_dict['Other']\n",
    "        color_dict = {swc_sect_indx:color for swc_sect_indx in range(1,5)}\n",
    "    \n",
    "        loc_x = layer_dist[layer]+dist_x[kk]\n",
    "        soma_loc = np.array([loc_x,(1-norm_depth)*total_depth])\n",
    "        morph_path = get_morph_path(cell_id)\n",
    "        \n",
    "        morph_handler = MorphHandler(morph_path)\n",
    "        morph_data,morph_apical,morph_axon,morph_dist_arr = morph_handler.get_morph_coords()\n",
    "        \n",
    "        # Rotate morphology to appear upright                            \n",
    "        theta,axis_of_rot = morph_handler.calc_rotation_angle(morph_data,morph_apical)\n",
    "        \n",
    "        ax = morph_handler.draw_morphology_2D(theta,axis_of_rot,reject_axon=True,\n",
    "                                  soma_loc=soma_loc,color_dict=color_dict,\n",
    "                                  morph_dist_arr=morph_dist_arr,ax=ax)  \n",
    "        \n",
    "        \n",
    "ax.set_ylim([ylim_min,ylim_max])\n",
    "xmin,xmax = ax.get_xlim()\n",
    "xmin += 200\n",
    "xmax -= 200\n",
    "for layer_ in unique_layers:\n",
    "    layer_height = total_depth if layer_ == '1' else total_depth-depth_data[layer_] \n",
    "    ax.hlines(layer_height,xmin,xmax,colors='grey',lw=.5,linestyles='dashed')\n",
    "\n",
    "# Add scale\n",
    "ax.plot([-50,50],[total_depth-depth_data['5'], total_depth-depth_data['5']],\n",
    "        lw=1,color='k')\n",
    "ax.text(0, total_depth-depth_data['5']-80, '$100\\:\\mu m$',fontsize=10,\n",
    "        horizontalalignment='center')\n",
    "ax.plot([-50,-50],[total_depth-depth_data['5'], total_depth-depth_data['5']+200],\n",
    "        lw=1,color='k')\n",
    "ax.text(-110, total_depth-depth_data['5']+100, '$200\\:\\mu m$',fontsize=10,\n",
    "        verticalalignment='center',rotation=90)\n",
    "\n",
    "ax.hlines(0,xmin,xmax,colors='grey',lw=.25,linestyles='dashed')\n",
    "ax.axis('off')\n",
    "fig.set_size_inches(24,12) \n",
    "fig.savefig('morph_layerwise.png')\n",
    "\n",
    "plt.show()"
   ]
  }
 ],
 "metadata": {
  "kernelspec": {
   "display_name": "Python 3.7.3 64-bit ('base': conda)",
   "language": "python",
   "name": "python37364bitbaseconda8fde0ce2de4145ecaf59421980225cdf"
  },
  "language_info": {
   "codemirror_mode": {
    "name": "ipython",
    "version": 3
   },
   "file_extension": ".py",
   "mimetype": "text/x-python",
   "name": "python",
   "nbconvert_exporter": "python",
   "pygments_lexer": "ipython3",
   "version": "3.7.3-final"
  },
  "widgets": {
   "application/vnd.jupyter.widget-state+json": {
    "state": {},
    "version_major": 2,
    "version_minor": 0
   }
  }
 },
 "nbformat": 4,
 "nbformat_minor": 2
}